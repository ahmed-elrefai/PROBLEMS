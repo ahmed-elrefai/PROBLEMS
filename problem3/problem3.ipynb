{
 "cells": [
  {
   "cell_type": "markdown",
   "metadata": {},
   "source": [
    "## [__Problem3__](https://leetcode/problems/merge-two-sorted-lists/description/) - Merge two sorted lists\n",
    "difficulty: <font color=\"lightgreen\">Easy</font>"
   ]
  },
  {
   "cell_type": "markdown",
   "metadata": {},
   "source": [
    "given two sorted linked lists, merge them into one sorted linked list."
   ]
  },
  {
   "cell_type": "markdown",
   "metadata": {},
   "source": [
    "__Answer:__ <br>as the difficulty suggests, this problem is simple, in order to solve this,\n",
    "make a new linked list call it `result`,<br> and loop on the lists, see which element is smaller in value and add it to the `result` list.<br> until one of the lists gets to an end.\n",
    "after that, just link the rest of the other list to the merged one. and return the result."
   ]
  },
  {
   "cell_type": "markdown",
   "metadata": {},
   "source": [
    "here is the implementation in python:"
   ]
  },
  {
   "cell_type": "code",
   "execution_count": 1,
   "metadata": {},
   "outputs": [
    {
     "name": "stdout",
     "output_type": "stream",
     "text": [
      "1\n",
      "2\n",
      "3\n",
      "4\n",
      "6\n",
      "7\n"
     ]
    }
   ],
   "source": [
    "\n",
    "# Definition for singly-linked list.\n",
    "class ListNode:\n",
    "    def __init__(self, val=0, next=None):\n",
    "        self.val = val\n",
    "        self.next = next\n",
    "class Solution:\n",
    "    def mergeTwoLists(self, list1:ListNode, list2:ListNode) -> ListNode:\n",
    "        dummy: ListNode = ListNode()\n",
    "        nextNode: ListNode = dummy\n",
    "        while (list1 is not None and list2 is not None):\n",
    "            if list1.val < list2.val:\n",
    "                nextNode.next = list1\n",
    "                list1 = list1.next\n",
    "            else:\n",
    "                nextNode.next = list2\n",
    "                list2 = list2.next\n",
    "            nextNode = nextNode.next\n",
    "        \n",
    "        if list1 is not None:\n",
    "            nextNode.next = list1\n",
    "        elif list2 is not None:\n",
    "            nextNode.next = list2\n",
    "        \n",
    "        return dummy.next\n",
    "\n",
    "\n",
    "if __name__ == \"__main__\":\n",
    "    solution = Solution()\n",
    "    list1 = ListNode(1, ListNode(3, ListNode(5)))  # list1 = [1, 3, 5]\n",
    "    list2 = ListNode(2, ListNode(4, ListNode(6)))  # list2 = [2, 4, 6]\n",
    "    result = solution.mergeTwoLists(list1, list2)  # result = [1, 2, 3, 4, 5, 6]\n",
    "    while result is not None:\n",
    "        print(result.val)\n",
    "        result = result.next"
   ]
  }
 ],
 "metadata": {
  "kernelspec": {
   "display_name": "Python 3",
   "language": "python",
   "name": "python3"
  },
  "language_info": {
   "codemirror_mode": {
    "name": "ipython",
    "version": 3
   },
   "file_extension": ".py",
   "mimetype": "text/x-python",
   "name": "python",
   "nbconvert_exporter": "python",
   "pygments_lexer": "ipython3",
   "version": "3.12.2"
  }
 },
 "nbformat": 4,
 "nbformat_minor": 2
}
