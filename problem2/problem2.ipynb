{
 "cells": [
  {
   "cell_type": "markdown",
   "metadata": {},
   "source": [
    "## __Problem2__"
   ]
  },
  {
   "cell_type": "code",
   "execution_count": null,
   "metadata": {
    "vscode": {
     "languageId": "plaintext"
    }
   },
   "outputs": [],
   "source": []
  },
  {
   "cell_type": "markdown",
   "metadata": {},
   "source": [
    "You are given a 0-indexed array of integers nums of length n. You are initially positioned at nums[0].\n",
    "\n",
    "Each element nums[i] represents the maximum length of a forward jump from index i. In other words, if you are at nums[i], you can jump to any nums[i + j] where:\n",
    "\n",
    "0 <= j <= nums[i] and\n",
    "i + j < n\n",
    "Return the minimum number of jumps to reach nums[n - 1]. The test cases are generated such that you can reach nums[n - 1]."
   ]
  },
  {
   "cell_type": "markdown",
   "metadata": {},
   "source": [
    "### My Solution:"
   ]
  },
  {
   "cell_type": "markdown",
   "metadata": {},
   "source": [
    "my idea here is to divide my goal into subgoals. since we can't get optimally to the end by just going the <br>furthest distance from the start. although we still can do this but from the end. in order to get what i'm <br>saying take a look at this snippet:<br>"
   ]
  },
  {
   "cell_type": "code",
   "execution_count": null,
   "metadata": {
    "vscode": {
     "languageId": "plaintext"
    }
   },
   "outputs": [],
   "source": [
    "while (true){\n",
    "    for (int i = 0; i < nums.size(); i++){\n",
    "        int reach = i + nums[i];\n",
    "        if (reach >= goalIndex){\n",
    "            path.insert(path.begin(), i);\n",
    "            break;\n",
    "        }\n",
    "\n",
    "    }\n",
    "    if (path[0] == 0){\n",
    "        return path.size();\n",
    "    }\n",
    "    goalIndex = path[0];\n",
    "}"
   ]
  },
  {
   "cell_type": "markdown",
   "metadata": {},
   "source": [
    "all the magic lies in this loop. we're trying to reach the furthest answer from the end (which is the optimal)\n",
    "through looping on the list from the start and fetching the first index that gets us to the goalIndex.<br>\n",
    "and adding that to a path vector, which stores the path. from the end to the start and setting that particular index as the new goal until we reach goalIndex = 0. and then we return the size of that path."
   ]
  },
  {
   "cell_type": "markdown",
   "metadata": {
    "vscode": {
     "languageId": "plaintext"
    }
   },
   "source": [
    "so now we didn't just get the optimal number. we've also got the actual path itself."
   ]
  },
  {
   "cell_type": "markdown",
   "metadata": {},
   "source": [
    "and finally we end up with a small if statement at the start that returns 0 if the size of the numbers is 1."
   ]
  },
  {
   "cell_type": "code",
   "execution_count": null,
   "metadata": {
    "vscode": {
     "languageId": "plaintext"
    }
   },
   "outputs": [],
   "source": [
    "if (nums.size() == 1){\n",
    "    return 0;\n",
    "}"
   ]
  },
  {
   "cell_type": "markdown",
   "metadata": {},
   "source": [
    "this is the whole code:"
   ]
  },
  {
   "cell_type": "code",
   "execution_count": null,
   "metadata": {
    "vscode": {
     "languageId": "plaintext"
    }
   },
   "outputs": [],
   "source": [
    "class Solution {\n",
    "public:\n",
    "    int jump(vector<int>& nums) {\n",
    "        vector<int> path;\n",
    "        int goalIndex = nums.size() - 1;\n",
    "        if (nums.size() == 1){\n",
    "            return 0;\n",
    "        }\n",
    "\n",
    "        while (true){\n",
    "            for (int i = 0; i < nums.size(); i++){\n",
    "                int reach = i + nums[i];\n",
    "                if (reach >= goalIndex){\n",
    "                    path.insert(path.begin(), i);\n",
    "                    break;\n",
    "                }\n",
    "\n",
    "            }\n",
    "            if (path[0] == 0){\n",
    "                return path.size();\n",
    "            }\n",
    "            goalIndex = path[0];\n",
    "        }\n",
    "    }\n",
    "};"
   ]
  }
 ],
 "metadata": {
  "language_info": {
   "name": "python"
  }
 },
 "nbformat": 4,
 "nbformat_minor": 2
}
